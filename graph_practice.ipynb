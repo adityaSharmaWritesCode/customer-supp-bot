{
 "cells": [
  {
   "cell_type": "code",
   "execution_count": null,
   "id": "b1b6f965",
   "metadata": {},
   "outputs": [
    {
     "data": {
      "image/png": "[encoded data removed]",
      "text/plain": [
       "<IPython.core.display.Image object>"
      ]
     },
     "metadata": {},
     "output_type": "display_data"
    }
   ],
   "source": [
    "from typing import Annotated, Optional, Dict, TypedDict\n",
    "from datetime import date\n",
    "from langgraph.graph import StateGraph, START, END\n",
    "\n",
    "# STEP 1 - Create Agent State using a class of type TypedDict\n",
    "\n",
    "# STEP 2(a) - Create a node, which is be a normal Python function with the state as both input argument and return value\n",
    "# STEP 2(b) - Add a docstring to the node, whose purpose is basically to describe to the AI agent what this node is supposed to do\n",
    "# NODE is just a function which takes the current state as input, updates it, and returns the updated state\n",
    "\n",
    "# STEP 3(a) - Use \"StateGraph\" to build your graph using the state schema defined in step 1\n",
    "# STEP 3(b) - Add nodes to your graph using the \"add_node\" function, and then add edges to your graph using the \"add_edges\" function \n",
    "\n",
    "# STEP 4 - Once all the nodes and edges of the graph have been defined, compile the graph into a \"app\" variable\n",
    "\n",
    "# STEP 5 - Use app.invoke() with a starting state to actually run the graph, and store the result state in a variable\n",
    "\n",
    "class AgentState(TypedDict):\n",
    "    tday: str\n",
    "    tdate: date\n",
    "    message: str\n",
    "\n",
    "def greeting_node(state: AgentState) -> AgentState:\n",
    "    \"\"\"Simple node that adds a greeting message to the state\"\"\"\n",
    "    state['message'] = 'Hey! How are you doing on this blessed day of ' + state['tdate'] + ', ' + state['tday'] +'?'\n",
    "    return state\n",
    "\n",
    "graph = StateGraph(AgentState)\n",
    "\n",
    "graph.add_node(\"aisatsu\", greeting_node)\n",
    "graph.add_edge(START, \"aisatsu\")\n",
    "graph.add_edge(\"aisatsu\", END)\n",
    "\n",
    "app = graph.compile()\n",
    "\n",
    "\n",
    "from IPython.display import Image, display\n",
    "display(Image(app.get_graph().draw_mermaid_png()))"
   ]
  },
  {
   "cell_type": "code",
   "execution_count": null,
   "id": "a76373fb",
   "metadata": {},
   "outputs": [
    {
     "data": {
      "text/plain": [
       "'Hey! How are you doing on this blessed day of 2025/06/02, Tuesday?'"
      ]
     },
     "execution_count": 8,
     "metadata": {},
     "output_type": "execute_result"
    }
   ],
   "source": [
    "result = app.invoke({\"tday\":\"Tuesday\", \"tdate\":\"2025/06/02\"})\n",
    "result[\"message\"]"
   ]
  },
  {
   "cell_type": "markdown",
   "id": "fa06238a",
   "metadata": {},
   "source": [
    "H1.PRACTICESET2"
   ]
  },
  {
   "cell_type": "code",
   "execution_count": 14,
   "id": "1918804b",
   "metadata": {},
   "outputs": [
    {
     "data": {
      "image/png": "[encoded data removed]",
      "text/plain": [
       "<IPython.core.display.Image object>"
      ]
     },
     "metadata": {},
     "output_type": "display_data"
    }
   ],
   "source": [
    "from typing import TypedDict\n",
    "from langgraph.graph import StateGraph, START, END\n",
    "\n",
    "class AgentState(TypedDict):\n",
    "    message: str\n",
    "\n",
    "def compliment_node(state: AgentState) -> AgentState:\n",
    "    \"\"\"This will take the users name as context and give them a compliment\"\"\"\n",
    "    state[\"message\"] = f\"Wow {state['message']}, that is a great name!\"\n",
    "    return state\n",
    "\n",
    "graph = StateGraph(AgentState)\n",
    "\n",
    "graph.add_node(\"main\", compliment_node)\n",
    "graph.add_edge(START, \"main\")\n",
    "graph.add_edge(\"main\", END)\n",
    "\n",
    "app = graph.compile()\n",
    "\n",
    "from IPython.display import Image, display\n",
    "display(Image(app.get_graph().draw_mermaid_png()))"
   ]
  },
  {
   "cell_type": "code",
   "execution_count": 15,
   "id": "4e6031ff",
   "metadata": {},
   "outputs": [
    {
     "data": {
      "text/plain": [
       "'Wow Aditya, that is a great name!'"
      ]
     },
     "execution_count": 15,
     "metadata": {},
     "output_type": "execute_result"
    }
   ],
   "source": [
    "result = app.invoke({\"message\": \"Aditya\"})\n",
    "result[\"message\"]"
   ]
  },
  {
   "cell_type": "markdown",
   "id": "6a05f645",
   "metadata": {},
   "source": [
    "GRAPH 2 - MULTIPLE INPUTS"
   ]
  },
  {
   "cell_type": "code",
   "execution_count": 16,
   "id": "31db5f48",
   "metadata": {},
   "outputs": [
    {
     "data": {
      "image/png": "[encoded data removed]",
      "text/plain": [
       "<IPython.core.display.Image object>"
      ]
     },
     "metadata": {},
     "output_type": "display_data"
    }
   ],
   "source": [
    "from typing import TypedDict, List\n",
    "from langgraph.graph import StateGraph, START, END\n",
    "\n",
    "class AgentState(TypedDict):\n",
    "    values: List[int]\n",
    "    name: str\n",
    "    result: str\n",
    "\n",
    "def process_values(state: AgentState) -> AgentState:\n",
    "    \"\"\"This function handles multiple input values\"\"\"\n",
    "    state[\"result\"] = f\"Hi buddy {state['name']}! Your sum is : {sum(state['values'])}\"\n",
    "\n",
    "    return state\n",
    "\n",
    "graph = StateGraph(AgentState)\n",
    "graph.add_node(\"mainboy\", process_values)\n",
    "graph.add_edge(START, \"mainboy\")\n",
    "graph.add_edge(\"mainboy\", END)\n",
    "\n",
    "app = graph.compile()\n",
    "\n",
    "from IPython.display import Image, display\n",
    "display(Image(app.get_graph().draw_mermaid_png()))"
   ]
  },
  {
   "cell_type": "code",
   "execution_count": 18,
   "id": "e50c9b89",
   "metadata": {},
   "outputs": [
    {
     "data": {
      "text/plain": [
       "'Hi buddy Rogers! Your sum is : 10'"
      ]
     },
     "execution_count": 18,
     "metadata": {},
     "output_type": "execute_result"
    }
   ],
   "source": [
    "result = app.invoke({\"name\":\"Rogers\", \"values\":[1, 2, 3, 4]})\n",
    "result[\"result\"]"
   ]
  },
  {
   "cell_type": "markdown",
   "id": "2caca850",
   "metadata": {},
   "source": [
    "SEQUENTIAL GRAPH TIMEEEE"
   ]
  },
  {
   "cell_type": "code",
   "execution_count": 50,
   "id": "764b71bc",
   "metadata": {},
   "outputs": [
    {
     "data": {
      "image/png": "[encoded data removed]",
      "text/plain": [
       "<IPython.core.display.Image object>"
      ]
     },
     "metadata": {},
     "output_type": "display_data"
    }
   ],
   "source": [
    "from typing import TypedDict, List\n",
    "from langgraph.graph import StateGraph, START, END\n",
    "\n",
    "class AgentState(TypedDict):\n",
    "    name: str\n",
    "    age: int\n",
    "    skills : List[str]\n",
    "    result: str\n",
    "\n",
    "\n",
    "def first_node(state: AgentState) -> AgentState:\n",
    "    \"\"\"This function tells the user their name\"\"\"\n",
    "    state[\"result\"] = f\"Hi there, {state['name']}!\"\n",
    "    return state\n",
    "\n",
    "def second_node(state: AgentState) -> AgentState:\n",
    "    \"\"\"This function tells the user their age\"\"\"\n",
    "    state[\"result\"] = f\"{state['result']} That is a brilliant name for someone who is {state['age']} years old!\"\n",
    "    return state\n",
    "\n",
    "def third_node(state: AgentState) -> AgentState:\n",
    "    \"\"\"This functions lists out all of the user's skills\"\"\"\n",
    "    print(state[\"skills\"][0])\n",
    "    state[\"result\"] = state['result'] + f\" You have told me you are skilled at {state['skills']}?\"\n",
    "    return state\n",
    "\n",
    "graph = StateGraph(AgentState)\n",
    "\n",
    "graph.add_node(\"namer\", first_node)\n",
    "graph.add_node(\"ager\", second_node)\n",
    "graph.add_node(\"skiller\", third_node)\n",
    "\n",
    "graph.add_edge(START, \"namer\")\n",
    "graph.add_edge(\"namer\", \"ager\")\n",
    "graph.add_edge(\"ager\",  \"skiller\")\n",
    "graph.add_edge(\"skiller\", END)\n",
    "\n",
    "app = graph.compile()\n",
    "\n",
    "from IPython.display import Image, display\n",
    "display(Image(app.get_graph().draw_mermaid_png()))"
   ]
  },
  {
   "cell_type": "code",
   "execution_count": 51,
   "id": "75b2dec0",
   "metadata": {},
   "outputs": [
    {
     "name": "stdout",
     "output_type": "stream",
     "text": [
      "Python\n"
     ]
    },
    {
     "data": {
      "text/plain": [
       "\"Hi there, Maheshwari! That is a brilliant name for someone who is 10 years old! You have told me you are skilled at ['Python', 'Procrastination', 'Protesting']?\""
      ]
     },
     "execution_count": 51,
     "metadata": {},
     "output_type": "execute_result"
    }
   ],
   "source": [
    "result = app.invoke({\"name\":\"Maheshwari\", \"age\" : 10, \"skills\": [\"Python\", \"Procrastination\", \"Protesting\"]})\n",
    "result[\"result\"]"
   ]
  },
  {
   "cell_type": "markdown",
   "id": "f6ccd2bc",
   "metadata": {},
   "source": [
    "<h1> CONDITIONAL GRAPH TIME WOOOO (Finally introduces routers and add_conditional_edges())"
   ]
  },
  {
   "cell_type": "code",
   "execution_count": 70,
   "id": "37052976",
   "metadata": {},
   "outputs": [
    {
     "data": {
      "image/png": "[encoded data removed]",
      "text/plain": [
       "<IPython.core.display.Image object>"
      ]
     },
     "metadata": {},
     "output_type": "display_data"
    }
   ],
   "source": [
    "from typing import TypedDict\n",
    "from langgraph.graph import StateGraph, START, END\n",
    "\n",
    "\n",
    "# STEP 1 - Create Agent State using a class of type TypedDict\n",
    "\n",
    "# STEP 2(a) - Create a node, which is be a normal Python function with the state as both input argument and return value\n",
    "# STEP 2(b) - Add a docstring to the node, whose purpose is basically to describe to the AI agent what this node is supposed to do\n",
    "# NODE is just a function which takes the current state as input, updates it, and returns the updated state\n",
    "\n",
    "# STEP 2(c) -- Define a router function which defines the conditions at which a node will be executed. THIS WILL RETURN THE EDGE NAME WHICH HAS TO BE FOLLOWED\n",
    "\n",
    "\n",
    "# STEP 3(a) - Use \"StateGraph\" to build your graph using the state schema defined in step 1\n",
    "# STEP 3(b) - Add nodes to your graph using the \"add_node\" function, and then add edges to your graph using the \"add_edges\" function \n",
    "\n",
    "# STEP 3(c)(i) -- The router function IS NOT ADDED as a node. Instead a \"router\" node is added with the lamda state:state function for reasons explained below\n",
    "# STEP 3(c)(ii) -- Then, the add_conditional_edges function is used, which takes 3 inputs :\n",
    "#                           the router node name (as specified in step 3(c)(i)),\n",
    "#                           the router function name (as defined in step 2(c)), and\n",
    "#                           a Edge Name: Node Name map (where edge names are the return values for router function and node names are specified in step 3(b))\n",
    "\n",
    "# STEP 4 - Once all the nodes and edges of the graph have been defined, compile the graph into a \"app\" variable\n",
    "\n",
    "# STEP 5 - Use app.invoke() with a starting state to actually run the graph, and store the result state in a variable\n",
    "\n",
    "\n",
    "\n",
    "class AgentState(TypedDict):\n",
    "    num1 : int\n",
    "    num2 : int\n",
    "    operation: str\n",
    "    operation2: str\n",
    "    final : int\n",
    "    final2 : int\n",
    "\n",
    "def adder_node(state: AgentState) -> AgentState:\n",
    "    \"\"\"This function adds the 2 numbers\"\"\"\n",
    "    state['final'] = state['num1'] + state['num2']\n",
    "    return state\n",
    "\n",
    "def sub_node(state: AgentState) -> AgentState:\n",
    "    \"\"\"This function subtracts num2 from num1\"\"\"\n",
    "    state['final'] = state['num1'] - state['num2']\n",
    "    return state\n",
    "\n",
    "def mul_node(state: AgentState) -> AgentState:\n",
    "    \"\"\"This function multiplies the 2 numbers\"\"\"\n",
    "    state['final2'] = state['num1'] * state['num2']\n",
    "    return state\n",
    "\n",
    "def div_node(state: AgentState) -> AgentState:\n",
    "    \"\"\"This function divides num2 from num1\"\"\"\n",
    "    state['final2'] = state['num1'] / state['num2']\n",
    "    return state\n",
    "\n",
    "def router_node1(state: AgentState) -> AgentState:\n",
    "    \"\"\"This node will define what is the graph should next add or subtract\"\"\"\n",
    "\n",
    "    if state['operation'] == '+':\n",
    "        return \"addition\"\n",
    "    elif state['operation'] == '-':\n",
    "        return \"subtraction\"\n",
    "\n",
    "def router_node2(state: AgentState) -> AgentState:\n",
    "    \"\"\"This node will define if the graph should next multiply or divide\"\"\"\n",
    "    if state['operation2'] == '*':\n",
    "        return \"multiplication\"\n",
    "    elif state['operation2'] == '/':\n",
    "        return \"division\"\n",
    "\n",
    "graph = StateGraph(AgentState)\n",
    "\n",
    "graph.add_node(\"router1\", lambda state:state) #passthrough function (because the router does not actually change the state, it just guides the graph to the node that will change the state, hence, at the router node, the STATE REMAINS UNCHANGED)\n",
    "graph.add_node(\"router2\", lambda state:state)\n",
    "graph.add_node(\"add\", adder_node)\n",
    "graph.add_node(\"sub\", sub_node)\n",
    "graph.add_node(\"mul\", mul_node)\n",
    "graph.add_node(\"div\", div_node)\n",
    "\n",
    "\n",
    "graph.add_edge(START, \"router1\")\n",
    "\n",
    "graph.add_conditional_edges(\n",
    "    \"router1\",\n",
    "    router_node1,\n",
    "    {\n",
    "        \"addition\": \"add\", \n",
    "        \"subtraction\": \"sub\"\n",
    "    }\n",
    "\n",
    ")\n",
    "\n",
    "graph.add_edge(\"add\", \"router2\")\n",
    "graph.add_edge(\"sub\", \"router2\")\n",
    "\n",
    "graph.add_conditional_edges(\n",
    "    \"router2\",\n",
    "    router_node2,\n",
    "    {\n",
    "        \"multiplication\":\"mul\",\n",
    "        \"division\": \"div\"\n",
    "    }\n",
    ")\n",
    "graph.add_edge(\"mul\", END)\n",
    "graph.add_edge(\"div\", END)\n",
    "\n",
    "app = graph.compile()\n",
    "\n",
    "from IPython.display import Image, display\n",
    "display(Image(app.get_graph().draw_mermaid_png()))"
   ]
  },
  {
   "cell_type": "code",
   "execution_count": 71,
   "id": "534f226c",
   "metadata": {},
   "outputs": [
    {
     "name": "stdout",
     "output_type": "stream",
     "text": [
      "12\n",
      "20\n"
     ]
    }
   ],
   "source": [
    "res1 = app.invoke({\"num1\":10, \"num2\": 2, \"operation\":\"+\", \"operation2\":\"*\"})\n",
    "print(res1['final'])\n",
    "print(res1['final2'])"
   ]
  },
  {
   "cell_type": "code",
   "execution_count": 73,
   "id": "0c7f4418",
   "metadata": {},
   "outputs": [
    {
     "name": "stdout",
     "output_type": "stream",
     "text": [
      "12\n",
      "5.0\n"
     ]
    }
   ],
   "source": [
    "res2 = app.invoke({\"num1\":10, \"num2\": 2, \"operation\":\"+\", \"operation2\":\"/\"})\n",
    "print(res2['final'])\n",
    "print(res2['final2'])"
   ]
  },
  {
   "cell_type": "code",
   "execution_count": 74,
   "id": "98943f7e",
   "metadata": {},
   "outputs": [
    {
     "name": "stdout",
     "output_type": "stream",
     "text": [
      "8\n",
      "20\n"
     ]
    }
   ],
   "source": [
    "res3 = app.invoke({\"num1\":10, \"num2\": 2, \"operation\":\"-\", \"operation2\":\"*\"})\n",
    "print(res3['final'])\n",
    "print(res3['final2'])"
   ]
  },
  {
   "cell_type": "code",
   "execution_count": 75,
   "id": "686f9f26",
   "metadata": {},
   "outputs": [
    {
     "name": "stdout",
     "output_type": "stream",
     "text": [
      "8\n",
      "5.0\n"
     ]
    }
   ],
   "source": [
    "res4 = app.invoke({\"num1\":10, \"num2\": 2, \"operation\":\"-\", \"operation2\":\"/\"})\n",
    "print(res4['final'])\n",
    "print(res4['final2'])"
   ]
  },
  {
   "cell_type": "markdown",
   "id": "2e47f788",
   "metadata": {},
   "source": [
    "<h1> LOOPING GRAPH TIME WOOOOO"
   ]
  },
  {
   "cell_type": "markdown",
   "id": "3fd07ee6",
   "metadata": {},
   "source": []
  },
  {
   "cell_type": "code",
   "execution_count": 111,
   "id": "eeb968cc",
   "metadata": {},
   "outputs": [
    {
     "data": {
      "image/png": "[encoded data removed]",
      "text/plain": [
       "<IPython.core.display.Image object>"
      ]
     },
     "metadata": {},
     "output_type": "display_data"
    },
    {
     "name": "stdout",
     "output_type": "stream",
     "text": [
      "ENTERING LOOP 1\n",
      "ENTERING LOOP 2\n",
      "ENTERING LOOP 3\n",
      "ENTERING LOOP 4\n",
      "{'name': 'Bobby Brown', 'number': [10, 4, 9, 6, 6], 'counter': 5, 'message': 'You said your name was Bobby Brown, correct? Your lucky numbers are:'}\n"
     ]
    }
   ],
   "source": [
    "from typing import TypedDict, List\n",
    "import random\n",
    "from langgraph.graph import StateGraph, START, END\n",
    "\n",
    "class AgentState(TypedDict):\n",
    "    name: str\n",
    "    number: List[int]\n",
    "    counter: int\n",
    "    message: str\n",
    "\n",
    "def name_node(state: AgentState) -> AgentState:\n",
    "    \"\"\"This function repeats the user's name back to them\"\"\"\n",
    "    state['message'] = f\"You said your name was {state['name']}, correct? Your lucky numbers are:\"\n",
    "    state['counter'] = 0\n",
    "    return state\n",
    "\n",
    "def random_node(state: AgentState) -> AgentState:\n",
    "    \"\"\"This function generates a random number from 0 to 10\"\"\"\n",
    "    state[\"number\"].append(random.randint(0,10))\n",
    "    state[\"counter\"] += 1\n",
    "    return state\n",
    "\n",
    "def should_continue(state: AgentState) -> AgentState:\n",
    "    \"\"\"Function which decides what to do next\"\"\"\n",
    "    if state['counter'] < 5:\n",
    "        print('ENTERING LOOP', state['counter'])\n",
    "        return 'loop' # continue looping, conditional edge back onto itself\n",
    "    else:\n",
    "        return 'exit' # conditional edge towards end node\n",
    "    \n",
    "graph = StateGraph(AgentState)\n",
    "\n",
    "graph.add_node(\"namer\", name_node)\n",
    "graph.add_node(\"randomizer\", random_node)\n",
    "\n",
    "graph.add_edge(START, \"namer\")\n",
    "graph.add_edge(\"namer\", \"randomizer\")\n",
    "\n",
    "graph.add_conditional_edges(\n",
    "    \"randomizer\",\n",
    "    should_continue,\n",
    "    {\n",
    "        \"loop\" : \"randomizer\",\n",
    "        \"exit\" : END\n",
    "    }\n",
    ")\n",
    "\n",
    "app = graph.compile()\n",
    "\n",
    "from IPython.display import Image, display\n",
    "display(Image(app.get_graph().draw_mermaid_png()))\n",
    "\n",
    "result = app.invoke({\"name\":\"Bobby Brown\", \"counter\": -1, \"number\":[]})\n",
    "print(result)"
   ]
  },
  {
   "cell_type": "markdown",
   "id": "979e23d0",
   "metadata": {},
   "source": [
    "<h1>GRAPH PRACTICE - HIGHER OR LOWER GAME~~"
   ]
  },
  {
   "cell_type": "code",
   "execution_count": 147,
   "id": "c39a4a65",
   "metadata": {},
   "outputs": [
    {
     "data": {
      "image/png": "[encoded data removed]",
      "text/plain": [
       "<IPython.core.display.Image object>"
      ]
     },
     "metadata": {},
     "output_type": "display_data"
    }
   ],
   "source": [
    "from typing import TypedDict, List\n",
    "import random\n",
    "from langgraph.graph import StateGraph, START, END\n",
    "\n",
    "class AgentState(TypedDict):\n",
    "    player_name: str\n",
    "    attempts: int\n",
    "    guesses: List[int]\n",
    "    lower_bound: int\n",
    "    upper_bound: int\n",
    "    number: int\n",
    "\n",
    "def setup_node(state: AgentState)-> AgentState:\n",
    "    \"\"\"This function sets up the parameters for the rest of the game\"\"\"\n",
    "    state['lower_bound'] = 1\n",
    "    state['upper_bound'] = 20\n",
    "    state['attempts'] = 0\n",
    "    print(f\"Welcome to the game show {state['player_name']}! I see that you have given us your secret number between 1 and 20. Let the AI begin to guess it now!\\n\")\n",
    "    return state\n",
    "\n",
    "def guess_node(state: AgentState) -> AgentState:\n",
    "    \"\"\"This function gives a random number guess based on current lower bound and upper bound\"\"\"\n",
    "    \n",
    "    print(f\"New guessing region : from {state['lower_bound']} to {state['upper_bound']}\")\n",
    "    state['guesses'].append(random.randint(state['lower_bound'], state['upper_bound']))\n",
    "    print(f\"\\nHmm.. The AI has guessed the number to be : {state['guesses'][-1]}\")\n",
    "    state['attempts']+=1\n",
    "    return state\n",
    "\n",
    "def hint_node(state: AgentState) -> AgentState:\n",
    "    \"\"\"This function will tell the agent if it is above the secret number or below the secret number\"\"\"\n",
    "    \n",
    "    if state['guesses'][-1] < state['number']:\n",
    "        print('\\nOOOO, looks like the AGENT HAS UNDERSHOT THIS TIME! Try AGAIN LIL BUDDY!')  \n",
    "        state['lower_bound'] = state['guesses'][-1]+1\n",
    "        return state\n",
    "    elif state['guesses'][-1] > state['number']:\n",
    "        print('\\nHAHA, You seem to be aiming tooo high there lil bro. Try again!')\n",
    "        state['upper_bound'] = state['guesses'][-1]-1\n",
    "        return state\n",
    "\n",
    "def should_continue(state: AgentState) -> AgentState:\n",
    "    \"\"\"This agent determines if the agent should continue guessing or the game should end\"\"\"\n",
    "    if state['attempts'] > 7:\n",
    "        print(\"\\nLooks like the agent could not guesss it correctly afterr all. Till NEXT TIME FOLKS!!\")\n",
    "        return 'exit'\n",
    "    elif state['guesses'][-1] == state['number']:\n",
    "        print(f'\\nTHE AGENT HAS GUESSED CORRECTLY!! And it took only {state['attempts']} attempts?!?! 7 CROREEE!!!')\n",
    "        return 'exit'\n",
    "    else:\n",
    "        return 'continue'\n",
    "    \n",
    "\n",
    "graph = StateGraph(AgentState)\n",
    "\n",
    "graph.add_node(\"starter\", setup_node)\n",
    "graph.add_node(\"guesser\", guess_node)\n",
    "graph.add_node(\"hinter\",  hint_node)\n",
    "\n",
    "graph.add_edge(START, \"starter\")\n",
    "graph.add_edge(\"starter\", \"guesser\")\n",
    "graph.add_edge(\"guesser\", \"hinter\")\n",
    "\n",
    "graph.add_conditional_edges(\n",
    "    \"hinter\",\n",
    "    should_continue,\n",
    "    {\n",
    "        \"continue\" : \"guesser\",\n",
    "        \"exit\" : END\n",
    "    }\n",
    ")\n",
    "\n",
    "app = graph.compile()\n",
    "\n",
    "from IPython.display import Image, display\n",
    "display(Image(app.get_graph().draw_mermaid_png()))"
   ]
  },
  {
   "cell_type": "code",
   "execution_count": 148,
   "id": "d4f1c5ce",
   "metadata": {},
   "outputs": [
    {
     "name": "stdout",
     "output_type": "stream",
     "text": [
      "Welcome to the game show Singham! I see that you have given us your secret number between 1 and 20. Let the AI begin to guess it now!\n",
      "\n",
      "New guessing region : from 1 to 20\n",
      "\n",
      "Hmm.. The AI has guessed the number to be : 11\n",
      "\n",
      "OOOO, looks like the AGENT HAS UNDERSHOT THIS TIME! Try AGAIN LIL BUDDY!\n",
      "New guessing region : from 12 to 20\n",
      "\n",
      "Hmm.. The AI has guessed the number to be : 13\n",
      "\n",
      "OOOO, looks like the AGENT HAS UNDERSHOT THIS TIME! Try AGAIN LIL BUDDY!\n",
      "New guessing region : from 14 to 20\n",
      "\n",
      "Hmm.. The AI has guessed the number to be : 16\n",
      "\n",
      "OOOO, looks like the AGENT HAS UNDERSHOT THIS TIME! Try AGAIN LIL BUDDY!\n",
      "New guessing region : from 17 to 20\n",
      "\n",
      "Hmm.. The AI has guessed the number to be : 20\n",
      "\n",
      "HAHA, You seem to be aiming tooo high there lil bro. Try again!\n",
      "New guessing region : from 17 to 19\n",
      "\n",
      "Hmm.. The AI has guessed the number to be : 19\n",
      "\n",
      "THE AGENT HAS GUESSED CORRECTLY!! And it took only 5 attempts?!?! 7 CROREEE!!!\n"
     ]
    }
   ],
   "source": [
    "result = app.invoke({\"player_name\":\"Singham\", \"number\":random.randint(1, 20), \"guesses\":[]})"
   ]
  },
  {
   "cell_type": "code",
   "execution_count": null,
   "id": "320a1728",
   "metadata": {},
   "outputs": [],
   "source": []
  }
 ],
 "metadata": {
  "kernelspec": {
   "display_name": "Python 3",
   "language": "python",
   "name": "python3"
  },
  "language_info": {
   "codemirror_mode": {
    "name": "ipython",
    "version": 3
   },
   "file_extension": ".py",
   "mimetype": "text/x-python",
   "name": "python",
   "nbconvert_exporter": "python",
   "pygments_lexer": "ipython3",
   "version": "3.13.3"
  }
 },
 "nbformat": 4,
 "nbformat_minor": 5
}
