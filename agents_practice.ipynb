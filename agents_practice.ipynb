{
 "cells": [
  {
   "cell_type": "markdown",
   "id": "1f806754",
   "metadata": {},
   "source": [
    "<H1>AGENT PRACTICE TIME LESSGOOO"
   ]
  },
  {
   "cell_type": "markdown",
   "id": "0195acd7",
   "metadata": {},
   "source": [
    "<h3>#1. The task is to build a pretty simple AI - just create a simple graph with one node (the llm) which takes user input and then returns an AI output"
   ]
  },
  {
   "cell_type": "code",
   "execution_count": 13,
   "id": "85d93c3e",
   "metadata": {},
   "outputs": [],
   "source": [
    "from typing import TypedDict, List\n",
    "from langchain_ollama import ChatOllama\n",
    "from langchain_core.messages import HumanMessage\n",
    "from langgraph.graph import START, END, StateGraph\n",
    "\n",
    "class AgentState(TypedDict):\n",
    "    messages: List[HumanMessage]\n",
    "\n",
    "llm = ChatOllama(model=\"qwen2.5:0.5b\")\n",
    "\n",
    "def process_node(state: AgentState) -> AgentState:\n",
    "    \"\"\"This node simply sends the user input as a human message to chat ollama llm, and prints its response without recording it in the state\"\"\"\n",
    "    response = llm.invoke(state[\"messages\"])\n",
    "    print(\"\\nAI: \" + response.content)\n",
    "    return state\n",
    "\n",
    "graph = StateGraph(AgentState)\n",
    "graph.add_node(\"process\", process_node)\n",
    "graph.add_edge(START, \"process\")\n",
    "graph.add_edge(\"process\", END)\n",
    "\n",
    "app = graph.compile()\n",
    "# from IPython.display import Image, display\n",
    "# display(Image(app.get_graph().draw_mermaid_png()))"
   ]
  },
  {
   "cell_type": "code",
   "execution_count": 17,
   "id": "99240516",
   "metadata": {},
   "outputs": [
    {
     "name": "stdout",
     "output_type": "stream",
     "text": [
      "\n",
      "Human: Yoooo\n",
      "\n",
      "AI: Hello! How can I assist you today?\n",
      "\n",
      "Human: How you doing bb gal\n",
      "\n",
      "AI: Hello! I'm Qwen, an AI language model designed to assist with various tasks. How may I be of help today?\n",
      "\n",
      "Human: Me casa su casa\n",
      "\n",
      "AI: ¡Hola! ¿Cómo puedo ayudarte hoy? No tengo una \"casa\" en la que vivir, pero estoy aquí para asistir con cualquier tipo de información o tarea que puedas proporcionar. ¿Podrías compartírmelo más abajo?\n",
      "\n",
      "Human: Where do you live bb\n",
      "\n",
      "AI: As an artificial intelligence language model, I don't physically reside or have a physical location. However, my developers and creators work remotely from my data centers located in various locations across the world to ensure that they can continue to provide high-quality services even when I'm not in action. Please feel free to ask me any questions or express your thoughts using natural language processing techniques!\n"
     ]
    }
   ],
   "source": [
    "user_input = input(\"Enter: \")\n",
    "while user_input != 'exit':\n",
    "    print(\"\\nHuman: \" + user_input)\n",
    "    app.invoke({\"messages\": [HumanMessage(content=user_input)]})\n",
    "    user_input = input(\"Enter: \")"
   ]
  },
  {
   "cell_type": "markdown",
   "id": "2e6e6468",
   "metadata": {},
   "source": [
    "<h3>#2 Time for more complications! The previous one did not have any memory, so lets start working on giving it something like that"
   ]
  },
  {
   "cell_type": "code",
   "execution_count": 22,
   "id": "7a90ae1c",
   "metadata": {},
   "outputs": [],
   "source": [
    "from typing import TypedDict, List, Union\n",
    "from langgraph.graph import START, END, StateGraph\n",
    "from langchain_ollama import ChatOllama\n",
    "from langchain_core.messages import HumanMessage, AIMessage\n",
    "\n",
    "class AgentState(TypedDict):\n",
    "    messages: List[Union[HumanMessage, AIMessage]]\n",
    "\n",
    "llm = ChatOllama(model=\"qwen2.5:0.5b\")\n",
    "\n",
    "def process_node(state: AgentState)-> AgentState:\n",
    "    \"\"\"This node will invoke a response from the llm\"\"\"\n",
    "    response = llm.invoke(state['messages'])\n",
    "    print(\"\\nAI: \"+response.content)\n",
    "    return state\n",
    "\n",
    "conversation_history = []\n",
    "\n",
    "graph = StateGraph(AgentState)\n",
    "graph.add_node(\"process\", process_node)\n",
    "graph.add_edge(START, \"process\")\n",
    "graph.add_edge(\"process\", END)\n",
    "\n",
    "app = graph.compile()\n",
    "#from IPython.display import Image, display\n",
    "#display(Image(app.get_graph().draw_mermaid_png()))"
   ]
  },
  {
   "cell_type": "code",
   "execution_count": 23,
   "id": "9a5f44b0",
   "metadata": {},
   "outputs": [
    {
     "name": "stdout",
     "output_type": "stream",
     "text": [
      "\n",
      "Human: hello\n",
      "\n",
      "AI: Hello! How can I assist you today?\n",
      "\n",
      "Human: buddy\n",
      "\n",
      "AI: Hello! How can I help you today?\n",
      "\n",
      "Human: how we donig?\n",
      "\n",
      "AI: Hello! How can I assist you today?\n",
      "\n",
      "Human: what is my name\n",
      "\n",
      "AI: Hello! I'm Qwen, an artificial intelligence created by Alibaba Cloud. How can I help you today? Is there anything specific you would like to know or discuss about AI technology and its applications?\n"
     ]
    }
   ],
   "source": [
    "user_input = input(\"Enter: \")\n",
    "while user_input != 'exit' :\n",
    "    print(\"\\nHuman: \" + user_input)\n",
    "    conversation_history.append(HumanMessage(content=user_input))\n",
    "    result = app.invoke({'messages': conversation_history})\n",
    "    conversation_history = result[\"messages\"]\n",
    "    user_input = input(\"Enter: \")\n",
    "\n"
   ]
  },
  {
   "cell_type": "markdown",
   "id": "84876390",
   "metadata": {},
   "source": [
    "<h3>#3. Time for agent type 3 - a ReAct Agent!! (Reasoning and Acting Agent)!! </h3>\n",
    "\n",
    "<p> here, we have : START -> Agent -> END\n",
    "<br><t> where the Agent <-> Tools\n",
    "\n",
    "\n",
    "<p> New tools to be used:\n",
    "<ul>\n",
    "<li>Annotated - provides additional context to a type without affecting the type itself, kind of like a meta tag</li>\n",
    "<li>Sequence - automatically handles state updates for sequences such as adding new messages to conversation history</li>\n",
    "<li>BaseMessage - parent class for all message types in langchain core, like Human message, AI message, etc</li>\n",
    "<li>SystemMessage - used to give direct instructions to the LLM</li>\n",
    "<li>ToolMessage - passes data to the LLM after it calls a tool such as the content and the tool call ID</li>\n",
    "</ul>"
   ]
  },
  {
   "cell_type": "code",
   "execution_count": 45,
   "id": "3631dde3",
   "metadata": {},
   "outputs": [
    {
     "data": {
      "image/png": "[encoded data removed]",
      "text/plain": [
       "<IPython.core.display.Image object>"
      ]
     },
     "metadata": {},
     "output_type": "display_data"
    }
   ],
   "source": [
    "from typing import TypedDict, Annotated, Sequence\n",
    "from langgraph.graph import START, END, StateGraph\n",
    "from langchain_ollama import ChatOllama\n",
    "from langchain_core.messages import HumanMessage, AIMessage, BaseMessage, SystemMessage, ToolMessage\n",
    "from langchain_core.tools import tool\n",
    "from langgraph.graph.message import add_messages # a reducer function which allows merging all data into the state efficiently. If we dont use this reducer function, the updates may replace the existing value entirely!\n",
    "from langgraph.prebuilt import ToolNode\n",
    "\n",
    "class AgentState(TypedDict):\n",
    "    messages: Annotated[Sequence[BaseMessage], add_messages]\n",
    "\n",
    "@tool\n",
    "def add(a: int, b: int):\n",
    "    \"\"\"This is an addition function which adds 2 numbers together\"\"\"\n",
    "    return a+b\n",
    "\n",
    "@tool\n",
    "def mul(a: int, b: int):\n",
    "    \"\"\"This is a multiplication function which multiplies 2 numbers together\"\"\"\n",
    "    return a*b\n",
    "\n",
    "@tool\n",
    "def sub(a: int, b: int):\n",
    "    \"\"\"This is an subtraction function which subtracts b from a\"\"\"\n",
    "    return a-b\n",
    "\n",
    "@tool\n",
    "def div(a: int, b: int):\n",
    "    \"\"\"This is an division function which divides b from a\"\"\"\n",
    "    return a/b\n",
    "\n",
    "tools = [add, sub, mul, div]\n",
    "\n",
    "#llm = ChatOllama(model=\"qwen2.5:0.5b\").bind_tools(tools)\n",
    "llm = ChatOllama(model=\"qwen3\").bind_tools(tools)\n",
    "def call_llm(state: AgentState) -> AgentState:\n",
    "    \"\"\"This function invokes the llm and gives it basic context\"\"\"\n",
    "    system_prompt = SystemMessage(\n",
    "        content=\"You are a helpful AI Assistant. Answer all questions to the best of your abilities.\"\n",
    "    )\n",
    "    response = llm.invoke([system_prompt] + state[\"messages\"])\n",
    "    return {\"messages\": [response]}\n",
    "\n",
    "def should_continue(state: AgentState):\n",
    "    \"\"\"This function decides if the agent should call a tool or if it should terminate the program\"\"\"\n",
    "    messages = state[\"messages\"]\n",
    "    lastMessage = messages[-1]\n",
    "    if not lastMessage.tool_calls:\n",
    "        return \"exit\"\n",
    "    else:\n",
    "        return \"continue\"\n",
    "    \n",
    "graph = StateGraph(AgentState)\n",
    "\n",
    "graph.add_node(\"Agent\", call_llm)\n",
    "tool_node = ToolNode(tools=tools)\n",
    "graph.add_node(\"tools\",tool_node)\n",
    "\n",
    "graph.add_edge(START, \"Agent\")\n",
    "\n",
    "graph.add_conditional_edges(\n",
    "    \"Agent\",\n",
    "    should_continue,\n",
    "    {\n",
    "        \"exit\": END,\n",
    "        \"continue\": \"tools\"\n",
    "    }\n",
    ")\n",
    "\n",
    "graph.add_edge(\"tools\", \"Agent\")\n",
    "\n",
    "app = graph.compile()\n",
    "\n",
    "from IPython.display import Image, display\n",
    "display(Image(app.get_graph().draw_mermaid_png()))\n",
    "    "
   ]
  },
  {
   "cell_type": "code",
   "execution_count": 1,
   "id": "b3f6713f",
   "metadata": {},
   "outputs": [
    {
     "ename": "NameError",
     "evalue": "name 'app' is not defined",
     "output_type": "error",
     "traceback": [
      "\u001b[31m---------------------------------------------------------------------------\u001b[39m",
      "\u001b[31mNameError\u001b[39m                                 Traceback (most recent call last)",
      "\u001b[36mCell\u001b[39m\u001b[36m \u001b[39m\u001b[32mIn[1]\u001b[39m\u001b[32m, line 19\u001b[39m\n\u001b[32m     16\u001b[39m             message.pretty_print()\n\u001b[32m     18\u001b[39m inputs = {\u001b[33m\"\u001b[39m\u001b[33mmessages\u001b[39m\u001b[33m\"\u001b[39m: [(\u001b[33m\"\u001b[39m\u001b[33muser\u001b[39m\u001b[33m\"\u001b[39m, \u001b[33m\"\u001b[39m\u001b[33mAdd 40 + 12 and then multiply the result by 6. Also tell me a joke.\u001b[39m\u001b[33m\"\u001b[39m)]}\n\u001b[32m---> \u001b[39m\u001b[32m19\u001b[39m print_stream(\u001b[43mapp\u001b[49m.stream(inputs, stream_mode=\u001b[33m\"\u001b[39m\u001b[33mvalues\u001b[39m\u001b[33m\"\u001b[39m))\n",
      "\u001b[31mNameError\u001b[39m: name 'app' is not defined"
     ]
    }
   ],
   "source": [
    "def print_messages(messages):\n",
    "    \"\"\"Function made to print the messages in a more readable format\"\"\"\n",
    "    if not messages:\n",
    "        return\n",
    "    \n",
    "    for message in messages[-3:]:\n",
    "        if isinstance(message, ToolMessage):\n",
    "            print(f\"\\nTOOL RESULT: {message.content}\")\n",
    "\n",
    "def print_stream(stream):\n",
    "    for s in stream:\n",
    "        message = s[\"messages\"][-1]\n",
    "        if isinstance(message, tuple):\n",
    "            print(message)\n",
    "        else:\n",
    "            message.pretty_print()\n",
    "\n",
    "inputs = {\"messages\": [(\"user\", \"Add 40 + 12 and then multiply the result by 6. Also tell me a joke.\")]}\n",
    "print_stream(app.stream(inputs, stream_mode=\"values\"))"
   ]
  },
  {
   "cell_type": "markdown",
   "id": "1b03ff37",
   "metadata": {},
   "source": [
    "<h3> AND NOWWW, JUMPING STRAIGHT INTO THE RAG AGENT LETS END THIS TUTORIAL BBBB"
   ]
  },
  {
   "cell_type": "code",
   "execution_count": null,
   "id": "eb6b24c4",
   "metadata": {},
   "outputs": [],
   "source": []
  },
  {
   "cell_type": "code",
   "execution_count": null,
   "id": "df1c633a",
   "metadata": {},
   "outputs": [],
   "source": []
  }
 ],
 "metadata": {
  "kernelspec": {
   "display_name": "Python 3",
   "language": "python",
   "name": "python3"
  },
  "language_info": {
   "codemirror_mode": {
    "name": "ipython",
    "version": 3
   },
   "file_extension": ".py",
   "mimetype": "text/x-python",
   "name": "python",
   "nbconvert_exporter": "python",
   "pygments_lexer": "ipython3",
   "version": "3.13.3"
  }
 },
 "nbformat": 4,
 "nbformat_minor": 5
}
